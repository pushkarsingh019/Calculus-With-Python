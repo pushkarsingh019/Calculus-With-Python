{
 "cells": [
  {
   "cell_type": "markdown",
   "metadata": {},
   "source": [
    "# Infinite Limits Practice Problems"
   ]
  },
  {
   "cell_type": "code",
   "execution_count": 163,
   "metadata": {},
   "outputs": [],
   "source": [
    "import numpy as np\n",
    "import matplotlib.pyplot as plt\n",
    "import sympy as sym\n",
    "from IPython.display import display, Math"
   ]
  },
  {
   "cell_type": "code",
   "execution_count": 230,
   "metadata": {},
   "outputs": [],
   "source": [
    "# Functions for solution and Graphs\n",
    "\n",
    "def plot(equation, variable):\n",
    "    sym.plot(equation, (variable, -10, 10), ylim=[-10, 10])\n",
    "\n",
    "def solution(equation, variable, limit, both):\n",
    "    print(f'Limit as {variable} appoaches {limit} from the left : {sym.limit(equation, variable, limit, dir=\"-\")}')\n",
    "    print(f'Limit as {variable} appoaches {limit} from the Right : {sym.limit(equation, variable, limit, dir=\"+\")}')\n",
    "    print(f'Limit as {variable} appoaches {limit} from the left : {sym.limit(equation, variable, limit, dir=\"+-\")}') if both else print(\"\")\n",
    "    print(f'Function value at {variable} = {limit} : {equation.subs(variable, limit)}')\n",
    "\n"
   ]
  },
  {
   "cell_type": "markdown",
   "metadata": {},
   "source": [
    "### Structure 1 : Factoring Problems"
   ]
  },
  {
   "cell_type": "code",
   "execution_count": 227,
   "metadata": {},
   "outputs": [
    {
     "data": {
      "text/latex": [
       "$\\displaystyle \\frac{c \\left(a b + x^{2} - x \\left(a + b\\right)\\right)}{- a b + x^{2} + x \\left(- a + b\\right)}$"
      ],
      "text/plain": [
       "c*(a*b + x**2 - x*(a + b))/(-a*b + x**2 + x*(-a + b))"
      ]
     },
     "execution_count": 227,
     "metadata": {},
     "output_type": "execute_result"
    }
   ],
   "source": [
    "# Structure of the problem.\n",
    "\n",
    "x, a, b, c = sym.symbols('x a b c')\n",
    "ab_range = np.arange(-4,5,1)\n",
    "c_range = [-1,1]\n",
    "\n",
    "exp = (c * (x**2 - (a + b)*x + a*b)) / (x**2 + (b - a)*x - a*b)\n",
    "\n",
    "exp"
   ]
  },
  {
   "cell_type": "code",
   "execution_count": 228,
   "metadata": {},
   "outputs": [
    {
     "name": "stdout",
     "output_type": "stream",
     "text": [
      "Compute the Limit of...\n"
     ]
    },
    {
     "data": {
      "text/latex": [
       "$\\displaystyle \\lim_{x \\to 2^+}\\left(\\frac{x^{2} + x - 6}{x^{2} - 5 x + 6}\\right)$"
      ],
      "text/plain": [
       "<IPython.core.display.Math object>"
      ]
     },
     "execution_count": 228,
     "metadata": {},
     "output_type": "execute_result"
    }
   ],
   "source": [
    "a_choice = np.random.choice(ab_range)\n",
    "b_choice = np.random.choice(ab_range)\n",
    "c_choice = np.random.choice(c_range)\n",
    "\n",
    "# Building the eqn to solve\n",
    "equation = exp.subs({a : a_choice, b : b_choice, c : c_choice})\n",
    "\n",
    "print('Compute the Limit of...')\n",
    "Math(sym.latex(sym.Limit(equation, x, a_choice)))"
   ]
  },
  {
   "cell_type": "code",
   "execution_count": 229,
   "metadata": {},
   "outputs": [
    {
     "data": {
      "text/latex": [
       "$\\displaystyle Limit as x appoaches 2 from the left : -5$"
      ],
      "text/plain": [
       "<IPython.core.display.Math object>"
      ]
     },
     "metadata": {},
     "output_type": "display_data"
    },
    {
     "data": {
      "text/latex": [
       "$\\displaystyle Limit as x appoaches 2 from the Right : -5$"
      ],
      "text/plain": [
       "<IPython.core.display.Math object>"
      ]
     },
     "metadata": {},
     "output_type": "display_data"
    },
    {
     "name": "stdout",
     "output_type": "stream",
     "text": [
      "Limit as x appoaches 2 from the left : -5\n"
     ]
    },
    {
     "data": {
      "text/latex": [
       "$\\displaystyle Function value at x = 2 : nan$"
      ],
      "text/plain": [
       "<IPython.core.display.Math object>"
      ]
     },
     "metadata": {},
     "output_type": "display_data"
    },
    {
     "data": {
      "image/png": "[encoded data removed]",
      "text/plain": [
       "<Figure size 640x480 with 1 Axes>"
      ]
     },
     "metadata": {},
     "output_type": "display_data"
    }
   ],
   "source": [
    "# Solution\n",
    "solution(equation, x, a_choice, both=True)\n",
    "plot(equation, x)"
   ]
  },
  {
   "cell_type": "markdown",
   "metadata": {},
   "source": [
    "### Structure 2 : Square Roots and Conjugates..\n",
    "\n",
    "Here the idea is the multiple the equation by its conjugate. So Numberator and we just flip the sign."
   ]
  },
  {
   "cell_type": "code",
   "execution_count": 231,
   "metadata": {},
   "outputs": [
    {
     "data": {
      "text/latex": [
       "$\\displaystyle \\frac{- \\sqrt{- a + b} + \\sqrt{b + x}}{a + x}$"
      ],
      "text/plain": [
       "(-sqrt(-a + b) + sqrt(b + x))/(a + x)"
      ]
     },
     "execution_count": 231,
     "metadata": {},
     "output_type": "execute_result"
    }
   ],
   "source": [
    "# Structure of the problem.\n",
    "x, a, b, c = sym.symbols('x a b c')\n",
    "a_range = np.arange(-4,5,1)\n",
    "b_sum_range = np.arange(0,5)\n",
    "c_eqn =  - (sym.sqrt(b - a))\n",
    "\n",
    "exp = (sym.sqrt(x + b) + c_eqn) / (x + a)\n",
    "exp"
   ]
  },
  {
   "cell_type": "code",
   "execution_count": 252,
   "metadata": {},
   "outputs": [
    {
     "name": "stdout",
     "output_type": "stream",
     "text": [
      "Compute the Limit of...\n"
     ]
    },
    {
     "data": {
      "text/latex": [
       "$\\displaystyle \\lim_{x \\to 3^+}\\left(\\frac{\\sqrt{x} - \\sqrt{3}}{x - 3}\\right)$"
      ],
      "text/plain": [
       "<IPython.core.display.Math object>"
      ]
     },
     "metadata": {},
     "output_type": "display_data"
    },
    {
     "data": {
      "text/latex": [
       "$\\displaystyle \\frac{\\sqrt{3}}{6}$"
      ],
      "text/plain": [
       "sqrt(3)/6"
      ]
     },
     "execution_count": 252,
     "metadata": {},
     "output_type": "execute_result"
    }
   ],
   "source": [
    "a_choice = np.random.choice(a_range)\n",
    "b_choice = a_choice + np.random.choice(b_sum_range)\n",
    "\n",
    "# Building the eqn to solve\n",
    "equation = exp.subs({a : a_choice, b : b_choice})\n",
    "\n",
    "print('Compute the Limit of...')\n",
    "display(Math(sym.latex(sym.Limit(equation, x,  -(a_choice)))))\n",
    "\n",
    "sym.limit(equation, x, -(a_choice))"
   ]
  },
  {
   "cell_type": "code",
   "execution_count": 253,
   "metadata": {},
   "outputs": [
    {
     "name": "stdout",
     "output_type": "stream",
     "text": [
      "Limit as x appoaches 3 from the left : sqrt(3)/6\n",
      "Limit as x appoaches 3 from the Right : sqrt(3)/6\n",
      "Limit as x appoaches 3 from the left : sqrt(3)/6\n",
      "Function value at x = 3 : nan\n"
     ]
    }
   ],
   "source": [
    "solution(equation, x, -a_choice, both=True)"
   ]
  },
  {
   "cell_type": "code",
   "execution_count": 254,
   "metadata": {},
   "outputs": [],
   "source": [
    "# 3A AND 3B Remaining"
   ]
  }
 ],
 "metadata": {
  "kernelspec": {
   "display_name": "base",
   "language": "python",
   "name": "python3"
  },
  "language_info": {
   "codemirror_mode": {
    "name": "ipython",
    "version": 3
   },
   "file_extension": ".py",
   "mimetype": "text/x-python",
   "name": "python",
   "nbconvert_exporter": "python",
   "pygments_lexer": "ipython3",
   "version": "3.1.undefined"
  }
 },
 "nbformat": 4,
 "nbformat_minor": 2
}
