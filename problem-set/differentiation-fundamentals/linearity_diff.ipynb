{
 "cells": [
  {
   "cell_type": "code",
   "execution_count": 1,
   "metadata": {},
   "outputs": [],
   "source": [
    "import sympy as sym"
   ]
  },
  {
   "cell_type": "code",
   "execution_count": 12,
   "metadata": {},
   "outputs": [
    {
     "name": "stdout",
     "output_type": "stream",
     "text": [
      "The derivative of a x^{2} + b x^{3} + c e^{2 x} is 2*a*x + 3*b*x**2 + 2*c*exp(2*x)\n",
      " The derivative of [a*x**2] is :\n",
      "2 a x\n",
      " The derivative of [b*x**3] is :\n",
      "3 b x^{2}\n",
      " The derivative of [c*exp(2*x)] is :\n",
      "2 c e^{2 x}\n",
      "total :  2*a*x + 3*b*x**2 + 2*c*exp(2*x) + Expr()\n"
     ]
    }
   ],
   "source": [
    "x,a,b,c = sym.symbols('x a b c')\n",
    "\n",
    "parts = [[a*x**2], [b*x**3], [c*sym.exp(2*x)]]\n",
    "y = a*x**2 + b*x**3 + c*sym.exp(2*x)\n",
    "\n",
    "total_diff = sym.diff(y,x)\n",
    "print(f'The derivative of {sym.latex(y)} is {total_diff}')\n",
    "add = sym.Expr()\n",
    "for i in range(len(parts)):\n",
    "    diff = sym.diff(parts[i][0], x)\n",
    "    print(f' The derivative of {parts[i]} is :\\n{sym.latex(diff)}')\n",
    "    add = add + diff\n",
    "\n",
    "print(\"total : \", add)"
   ]
  },
  {
   "cell_type": "code",
   "execution_count": 15,
   "metadata": {},
   "outputs": [
    {
     "name": "stdout",
     "output_type": "stream",
     "text": [
      "2*a*x\n",
      "2*a*x\n"
     ]
    }
   ],
   "source": [
    "# Scalar Multiples\n",
    "y_left = a * x**2\n",
    "y_right = x**2\n",
    "\n",
    "l = sym.diff(y_left, x)\n",
    "r = sym.diff(y_right, x)\n",
    "\n",
    "print(l)\n",
    "print(r*a)"
   ]
  },
  {
   "cell_type": "code",
   "execution_count": 19,
   "metadata": {},
   "outputs": [
    {
     "name": "stdout",
     "output_type": "stream",
     "text": [
      "2*a*x - b*sin(x)\n",
      "2*a*x - b*sin(x)\n"
     ]
    }
   ],
   "source": [
    "# Full Linearity Test\n",
    "exp = a*x**2 + b*sym.cos(x)\n",
    "exp1 = x**2\n",
    "exp2 = sym.cos(x)\n",
    "\n",
    "main = sym.diff(exp,x)\n",
    "m1 = sym.diff(exp1,x)\n",
    "m2 = sym.diff(exp2, x)\n",
    "\n",
    "print(main)\n",
    "print(a*m1 + b*m2)"
   ]
  }
 ],
 "metadata": {
  "kernelspec": {
   "display_name": "base",
   "language": "python",
   "name": "python3"
  },
  "language_info": {
   "codemirror_mode": {
    "name": "ipython",
    "version": 3
   },
   "file_extension": ".py",
   "mimetype": "text/x-python",
   "name": "python",
   "nbconvert_exporter": "python",
   "pygments_lexer": "ipython3",
   "version": "3.10.14"
  }
 },
 "nbformat": 4,
 "nbformat_minor": 2
}
