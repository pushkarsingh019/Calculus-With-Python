{
 "cells": [
  {
   "cell_type": "code",
   "execution_count": 1,
   "metadata": {},
   "outputs": [],
   "source": [
    "import sympy as sym"
   ]
  },
  {
   "cell_type": "code",
   "execution_count": 11,
   "metadata": {},
   "outputs": [
    {
     "name": "stdout",
     "output_type": "stream",
     "text": [
      "-2/3 4/27\n",
      "0 0\n"
     ]
    }
   ],
   "source": [
    "x = sym.symbols('x')\n",
    "\n",
    "y = x**2 + x**3\n",
    "dydx = sym.diff(y, x)\n",
    "\n",
    "soln = sym.solve(dydx, x)\n",
    "values = []\n",
    "for sol in soln:\n",
    "    value = y.subs({x : sol})\n",
    "    print(sol, value)\n"
   ]
  },
  {
   "cell_type": "code",
   "execution_count": 14,
   "metadata": {},
   "outputs": [
    {
     "data": {
      "text/latex": [
       "$\\displaystyle \\begin{cases} 2 x & \\text{for}\\: x < 1 \\\\- x & \\text{otherwise} \\end{cases}$"
      ],
      "text/plain": [
       "Piecewise((2*x, x < 1), (-x, True))"
      ]
     },
     "execution_count": 14,
     "metadata": {},
     "output_type": "execute_result"
    }
   ],
   "source": [
    "# challenge 2\n",
    "exp = sym.Piecewise((x**2, x < 1), (-x**2 / 2, x>=1))\n",
    "\n",
    "diff = sym.diff(exp,x)\n",
    "diff"
   ]
  }
 ],
 "metadata": {
  "kernelspec": {
   "display_name": "base",
   "language": "python",
   "name": "python3"
  },
  "language_info": {
   "codemirror_mode": {
    "name": "ipython",
    "version": 3
   },
   "file_extension": ".py",
   "mimetype": "text/x-python",
   "name": "python",
   "nbconvert_exporter": "python",
   "pygments_lexer": "ipython3",
   "version": "3.1.undefined"
  }
 },
 "nbformat": 4,
 "nbformat_minor": 2
}
