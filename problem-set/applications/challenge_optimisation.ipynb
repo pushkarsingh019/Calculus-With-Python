{
 "cells": [
  {
   "cell_type": "code",
   "execution_count": 1,
   "metadata": {},
   "outputs": [],
   "source": [
    "import numpy as np\n",
    "import matplotlib.pyplot as plt\n",
    "import sympy as sym"
   ]
  },
  {
   "cell_type": "code",
   "execution_count": 30,
   "metadata": {},
   "outputs": [
    {
     "data": {
      "text/plain": [
       "[400/x]"
      ]
     },
     "execution_count": 30,
     "metadata": {},
     "output_type": "execute_result"
    }
   ],
   "source": [
    "x,y = sym.symbols('x y')\n",
    "area = x*y\n",
    "perimeter = 2*x + 2*y\n",
    "\n",
    "y_val = sym.solve(area - 400, y)\n",
    "area = area.subs(y, y_val[0])\n",
    "perimeter = perimeter.subs(y, y_val[0])\n",
    "df = sym.diff(perimeter, x)\n",
    "critical_points = sym.solve(df, x)\n",
    "critical_points = np.array(critical_points)\n",
    "x_val = critical_points[critical_points >= 0]\n"
   ]
  }
 ],
 "metadata": {
  "kernelspec": {
   "display_name": "base",
   "language": "python",
   "name": "python3"
  },
  "language_info": {
   "codemirror_mode": {
    "name": "ipython",
    "version": 3
   },
   "file_extension": ".py",
   "mimetype": "text/x-python",
   "name": "python",
   "nbconvert_exporter": "python",
   "pygments_lexer": "ipython3",
   "version": "3.10.14"
  }
 },
 "nbformat": 4,
 "nbformat_minor": 2
}
