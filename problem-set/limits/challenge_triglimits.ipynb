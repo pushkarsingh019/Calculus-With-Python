{
 "cells": [
  {
   "cell_type": "code",
   "execution_count": 15,
   "metadata": {},
   "outputs": [],
   "source": [
    "import sympy as sym\n",
    "import matplotlib.pyplot as plt\n",
    "from IPython.display import display, Math"
   ]
  },
  {
   "cell_type": "code",
   "execution_count": 28,
   "metadata": {},
   "outputs": [],
   "source": [
    "phi = sym.symbols('phi')\n",
    "\n",
    "exp1 = sym.sin(phi) / phi\n",
    "exp2 = (sym.cos(phi) - 1) / phi"
   ]
  },
  {
   "cell_type": "code",
   "execution_count": 23,
   "metadata": {},
   "outputs": [
    {
     "data": {
      "text/latex": [
       "$\\displaystyle \\lim_{\\phi \\to 0}\\left(\\frac{\\sin{\\left(\\phi \\right)}}{\\phi}\\right) = 1$"
      ],
      "text/plain": [
       "<IPython.core.display.Math object>"
      ]
     },
     "metadata": {},
     "output_type": "display_data"
    },
    {
     "data": {
      "text/latex": [
       "$\\displaystyle \\lim_{\\phi \\to 0}\\left(\\frac{\\cos{\\left(\\phi \\right)} - 1}{\\phi}\\right) = 0$"
      ],
      "text/plain": [
       "<IPython.core.display.Math object>"
      ]
     },
     "metadata": {},
     "output_type": "display_data"
    }
   ],
   "source": [
    "display(Math(f'${sym.latex(sym.Limit(exp1, phi, 0, dir=\"+-\"))} = {sym.limit(exp1, phi, 0)}$'))\n",
    "display(Math(f'${sym.latex(sym.Limit(exp2, phi, 0, dir=\"+-\"))} = {sym.limit(exp2, phi, 0)}$'))"
   ]
  }
 ],
 "metadata": {
  "kernelspec": {
   "display_name": "base",
   "language": "python",
   "name": "python3"
  },
  "language_info": {
   "codemirror_mode": {
    "name": "ipython",
    "version": 3
   },
   "file_extension": ".py",
   "mimetype": "text/x-python",
   "name": "python",
   "nbconvert_exporter": "python",
   "pygments_lexer": "ipython3",
   "version": "3.1.-1"
  }
 },
 "nbformat": 4,
 "nbformat_minor": 2
}
