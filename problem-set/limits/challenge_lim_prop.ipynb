{
 "cells": [
  {
   "cell_type": "code",
   "execution_count": 5,
   "metadata": {},
   "outputs": [],
   "source": [
    "import sympy as sym\n",
    "import numpy as np\n",
    "from IPython.display import display, Math"
   ]
  },
  {
   "cell_type": "code",
   "execution_count": 13,
   "metadata": {},
   "outputs": [
    {
     "data": {
      "text/latex": [
       "$\\displaystyle \\frac{125}{3} + 100 \\sqrt{5}$"
      ],
      "text/plain": [
       "125/3 + 100*sqrt(5)"
      ]
     },
     "metadata": {},
     "output_type": "display_data"
    },
    {
     "data": {
      "text/plain": [
       "' = '"
      ]
     },
     "metadata": {},
     "output_type": "display_data"
    },
    {
     "data": {
      "text/latex": [
       "$\\displaystyle \\frac{125}{3} + 100 \\sqrt{5}$"
      ],
      "text/plain": [
       "125/3 + 100*sqrt(5)"
      ]
     },
     "metadata": {},
     "output_type": "display_data"
    },
    {
     "data": {
      "text/latex": [
       "$\\displaystyle \\frac{250}{3} + 200 \\sqrt{5}$"
      ],
      "text/plain": [
       "250/3 + 200*sqrt(5)"
      ]
     },
     "metadata": {},
     "output_type": "display_data"
    },
    {
     "data": {
      "text/plain": [
       "' = '"
      ]
     },
     "metadata": {},
     "output_type": "display_data"
    },
    {
     "data": {
      "text/latex": [
       "$\\displaystyle \\frac{250}{3} + 200 \\sqrt{5}$"
      ],
      "text/plain": [
       "250/3 + 200*sqrt(5)"
      ]
     },
     "metadata": {},
     "output_type": "display_data"
    },
    {
     "data": {
      "text/latex": [
       "$\\displaystyle 125 + 300 \\sqrt{5}$"
      ],
      "text/plain": [
       "125 + 300*sqrt(5)"
      ]
     },
     "metadata": {},
     "output_type": "display_data"
    },
    {
     "data": {
      "text/plain": [
       "' = '"
      ]
     },
     "metadata": {},
     "output_type": "display_data"
    },
    {
     "data": {
      "text/latex": [
       "$\\displaystyle 125 + 300 \\sqrt{5}$"
      ],
      "text/plain": [
       "125 + 300*sqrt(5)"
      ]
     },
     "metadata": {},
     "output_type": "display_data"
    },
    {
     "data": {
      "text/latex": [
       "$\\displaystyle \\frac{500}{3} + 400 \\sqrt{5}$"
      ],
      "text/plain": [
       "500/3 + 400*sqrt(5)"
      ]
     },
     "metadata": {},
     "output_type": "display_data"
    },
    {
     "data": {
      "text/plain": [
       "' = '"
      ]
     },
     "metadata": {},
     "output_type": "display_data"
    },
    {
     "data": {
      "text/latex": [
       "$\\displaystyle \\frac{500}{3} + 400 \\sqrt{5}$"
      ],
      "text/plain": [
       "500/3 + 400*sqrt(5)"
      ]
     },
     "metadata": {},
     "output_type": "display_data"
    }
   ],
   "source": [
    "x = sym.symbols('x')\n",
    "f = (x**3 / 3) + 100*(sym.sqrt(sym.Abs(x)))\n",
    "Math(sym.latex(sym.limit(f, x, 5)))\n",
    "\n",
    "xx = [1,2,3,4]\n",
    "\n",
    "for value in xx:\n",
    "    display(sym.limit(f*value,x, 5), ' = ', value*(sym.limit(f, x, 5)))\n"
   ]
  },
  {
   "cell_type": "code",
   "execution_count": 24,
   "metadata": {},
   "outputs": [
    {
     "name": "stdout",
     "output_type": "stream",
     "text": [
      "exp(-pi) + log(pi) + pi**2 + pi**3\n",
      "exp(-pi) + log(pi) + pi**2 + pi**3\n",
      "\n"
     ]
    }
   ],
   "source": [
    "# Additive Limits\n",
    "\n",
    "y1 = sym.log(x) + x**2\n",
    "y2 = sym.exp(-x) + x**3\n",
    "\n",
    "print(sym.limit(y1 + y2, x, sym.pi))\n",
    "print(sym.limit(y1, x, sym.pi) + sym.limit(y2,x, sym.pi))\n",
    "print()"
   ]
  },
  {
   "cell_type": "code",
   "execution_count": 25,
   "metadata": {},
   "outputs": [
    {
     "name": "stdout",
     "output_type": "stream",
     "text": [
      "(exp(-pi) + pi**3)*(log(pi) + pi**2)\n",
      "(exp(-pi) + pi**3)*(log(pi) + pi**2)\n"
     ]
    }
   ],
   "source": [
    "print(sym.limit(y1*y2, x, sym.pi))\n",
    "print(sym.limit(y1, x, sym.pi) * sym.limit(y2, x, sym.pi))"
   ]
  }
 ],
 "metadata": {
  "kernelspec": {
   "display_name": "base",
   "language": "python",
   "name": "python3"
  },
  "language_info": {
   "codemirror_mode": {
    "name": "ipython",
    "version": 3
   },
   "file_extension": ".py",
   "mimetype": "text/x-python",
   "name": "python",
   "nbconvert_exporter": "python",
   "pygments_lexer": "ipython3",
   "version": "3.10.14"
  }
 },
 "nbformat": 4,
 "nbformat_minor": 2
}
