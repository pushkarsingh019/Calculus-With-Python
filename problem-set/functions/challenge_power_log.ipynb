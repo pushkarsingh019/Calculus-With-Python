{
 "cells": [
  {
   "cell_type": "code",
   "execution_count": 44,
   "metadata": {},
   "outputs": [],
   "source": [
    "import numpy as np\n",
    "import sympy as sym\n",
    "from IPython.display import display, Math\n",
    "import matplotlib.pyplot as plt"
   ]
  },
  {
   "cell_type": "code",
   "execution_count": 45,
   "metadata": {},
   "outputs": [
    {
     "name": "stdout",
     "output_type": "stream",
     "text": [
      "x**10.7\n",
      "x**10.7\n"
     ]
    }
   ],
   "source": [
    "# adding power\n",
    "a,b,x = sym.symbols('a b x')\n",
    "exp1 = x**a * x**b\n",
    "exp_simplify = exp1.simplify()\n",
    "print(exp1.subs({a : 3.4, b : 7.3}))\n",
    "print(exp_simplify.subs({a : 3.4, b : 7.3}))"
   ]
  },
  {
   "cell_type": "code",
   "execution_count": 52,
   "metadata": {},
   "outputs": [
    {
     "name": "stdout",
     "output_type": "stream",
     "text": [
      "1\n",
      "1\n"
     ]
    }
   ],
   "source": [
    "subtract_exp = x**a / x**b\n",
    "sim_sub = subtract_exp.simplify()\n",
    "substitute = {a : 4, b : 4}\n",
    "print(subtract_exp.subs(substitute))\n",
    "print(sim_sub.subs(substitute))"
   ]
  },
  {
   "cell_type": "code",
   "execution_count": 67,
   "metadata": {},
   "outputs": [
    {
     "name": "stdout",
     "output_type": "stream",
     "text": [
      "x**21 x**21\n",
      "2.31062140560261*(1 + 0.324919696232905*I)**0.3 2.31062140560261*(1 + 0.324919696232905*I)**0.3\n"
     ]
    }
   ],
   "source": [
    "# powers\n",
    "power_exp = (x**a)**b\n",
    "s_power_exp = power_exp.simplify()\n",
    "\n",
    "sub1 = {a : 3, b: 7}\n",
    "sub2 = {x : -2, a : 4.1, b : 0.3}\n",
    "\n",
    "print(power_exp.subs(sub1), s_power_exp.subs(sub1))\n",
    "print(power_exp.subs(sub2), s_power_exp.subs(sub2))"
   ]
  },
  {
   "cell_type": "code",
   "execution_count": 79,
   "metadata": {},
   "outputs": [
    {
     "name": "stdout",
     "output_type": "stream",
     "text": [
      "2.70805020110221 3.8394523125933104\n",
      "14.967772585637135 14.967772585637134\n",
      "-0.62057648772511 -0.6205764877251101\n"
     ]
    }
   ],
   "source": [
    "# Log functions.\n",
    "a = 5\n",
    "b = 9.3\n",
    "print(np.log(a) + np.log(3), np.log(a*b))\n",
    "print(np.log(a**b), b*np.log(a))\n",
    "print(np.log(a/b), np.log(a) - np.log(b))"
   ]
  }
 ],
 "metadata": {
  "kernelspec": {
   "display_name": "base",
   "language": "python",
   "name": "python3"
  },
  "language_info": {
   "codemirror_mode": {
    "name": "ipython",
    "version": 3
   },
   "file_extension": ".py",
   "mimetype": "text/x-python",
   "name": "python",
   "nbconvert_exporter": "python",
   "pygments_lexer": "ipython3",
   "version": "3.10.14"
  }
 },
 "nbformat": 4,
 "nbformat_minor": 2
}
