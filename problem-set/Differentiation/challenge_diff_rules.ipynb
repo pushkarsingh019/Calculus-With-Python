{
 "cells": [
  {
   "cell_type": "code",
   "execution_count": 1,
   "metadata": {},
   "outputs": [],
   "source": [
    "import sympy as sym\n",
    "from IPython.display import display,Math\n",
    "import numpy as np\n",
    "import matplotlib.pyplot as plt"
   ]
  },
  {
   "cell_type": "code",
   "execution_count": 21,
   "metadata": {},
   "outputs": [
    {
     "data": {
      "text/latex": [
       "$\\displaystyle  \\text{'The derivate of'}  x^{2} \\cos{\\left(x \\right)} \\text{' is'} - x^{2} \\sin{\\left(x \\right)} + 2 x \\cos{\\left(x \\right)}$"
      ],
      "text/plain": [
       "<IPython.core.display.Math object>"
      ]
     },
     "metadata": {},
     "output_type": "display_data"
    },
    {
     "name": "stdout",
     "output_type": "stream",
     "text": [
      "using the product rule\n"
     ]
    },
    {
     "data": {
      "text/latex": [
       "$\\displaystyle  \\text {'with the product rule'} - x^{2} \\sin{\\left(x \\right)} + 2 x \\cos{\\left(x \\right)} $"
      ],
      "text/plain": [
       "<IPython.core.display.Math object>"
      ]
     },
     "metadata": {},
     "output_type": "display_data"
    }
   ],
   "source": [
    "# Product Rule in Sympy\n",
    "x = sym.symbols('x')\n",
    "\n",
    "fx = x**2\n",
    "gx = sym.cos(x)\n",
    "\n",
    "fxgx = fx * gx\n",
    "\n",
    "display(Math(f'$ \\\\text{{\\'The derivate of\\'}}  {sym.latex(fxgx)} \\\\text{{\\' is\\'}} {sym.latex(sym.diff(fxgx, x))}$'))\n",
    "\n",
    "print('using the product rule')\n",
    "\n",
    "diff_fx = sym.diff(fx, x)\n",
    "diff_gx = sym.diff(gx, x)\n",
    "\n",
    "display(Math(f'$ \\\\text {{\\'with the product rule\\'}} {sym.latex((diff_fx * gx) + (fx * diff_gx))} $'))\n"
   ]
  }
 ],
 "metadata": {
  "kernelspec": {
   "display_name": "base",
   "language": "python",
   "name": "python3"
  },
  "language_info": {
   "codemirror_mode": {
    "name": "ipython",
    "version": 3
   },
   "file_extension": ".py",
   "mimetype": "text/x-python",
   "name": "python",
   "nbconvert_exporter": "python",
   "pygments_lexer": "ipython3",
   "version": "3.10.14"
  }
 },
 "nbformat": 4,
 "nbformat_minor": 2
}
