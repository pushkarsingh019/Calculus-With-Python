{
 "cells": [
  {
   "cell_type": "markdown",
   "metadata": {},
   "source": [
    "HOPD - Higher Order Partial Derivatives"
   ]
  },
  {
   "cell_type": "code",
   "execution_count": 1,
   "metadata": {},
   "outputs": [],
   "source": [
    "import sympy as sym\n",
    "import numpy as np\n",
    "import matplotlib.pyplot as plt"
   ]
  },
  {
   "cell_type": "code",
   "execution_count": 14,
   "metadata": {},
   "outputs": [],
   "source": [
    "x,y = sym.symbols('x y')\n",
    "exp = sym.cos(2*x*y**2) + x**2 - y*sym.exp(x)\n",
    "\n",
    "fx = sym.diff(exp, x, 1)\n",
    "fy = sym.diff(exp, y, 1)\n",
    "fxx = sym.diff(exp, x, 2)\n",
    "fyy = sym.diff(exp, y, 2)\n",
    "fxy = sym.diff(fx, y, 1)\n",
    "fyx = sym.diff(fy, x, 1)\n",
    "\n",
    "# have not printed the output."
   ]
  }
 ],
 "metadata": {
  "kernelspec": {
   "display_name": "base",
   "language": "python",
   "name": "python3"
  },
  "language_info": {
   "codemirror_mode": {
    "name": "ipython",
    "version": 3
   },
   "file_extension": ".py",
   "mimetype": "text/x-python",
   "name": "python",
   "nbconvert_exporter": "python",
   "pygments_lexer": "ipython3",
   "version": "3.10.14"
  }
 },
 "nbformat": 4,
 "nbformat_minor": 2
}
